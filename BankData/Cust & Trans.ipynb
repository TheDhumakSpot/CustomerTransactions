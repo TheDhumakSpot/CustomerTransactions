{
 "cells": [
  {
   "cell_type": "code",
   "execution_count": 1,
   "id": "c77a12ee",
   "metadata": {},
   "outputs": [
    {
     "name": "stdout",
     "output_type": "stream",
     "text": [
      "Collecting faker\n",
      "  Downloading Faker-20.0.0-py3-none-any.whl (1.7 MB)\n",
      "Requirement already satisfied: python-dateutil>=2.4 in c:\\users\\hp\\anaconda3\\lib\\site-packages (from faker) (2.8.2)\n",
      "Requirement already satisfied: six>=1.5 in c:\\users\\hp\\anaconda3\\lib\\site-packages (from python-dateutil>=2.4->faker) (1.16.0)\n",
      "Installing collected packages: faker\n",
      "Successfully installed faker-20.0.0\n"
     ]
    }
   ],
   "source": [
    "!pip install faker"
   ]
  },
  {
   "cell_type": "code",
   "execution_count": 7,
   "id": "c05f56a9",
   "metadata": {},
   "outputs": [],
   "source": [
    "import numpy as np\n",
    "import pandas as pd\n",
    "from faker import Faker\n",
    "import random\n",
    "import datetime"
   ]
  },
  {
   "cell_type": "code",
   "execution_count": 8,
   "id": "5ca40e5c",
   "metadata": {},
   "outputs": [],
   "source": [
    "fake=Faker()"
   ]
  },
  {
   "cell_type": "code",
   "execution_count": 9,
   "id": "2454a2f9",
   "metadata": {},
   "outputs": [
    {
     "data": {
      "text/html": [
       "<div>\n",
       "<style scoped>\n",
       "    .dataframe tbody tr th:only-of-type {\n",
       "        vertical-align: middle;\n",
       "    }\n",
       "\n",
       "    .dataframe tbody tr th {\n",
       "        vertical-align: top;\n",
       "    }\n",
       "\n",
       "    .dataframe thead th {\n",
       "        text-align: right;\n",
       "    }\n",
       "</style>\n",
       "<table border=\"1\" class=\"dataframe\">\n",
       "  <thead>\n",
       "    <tr style=\"text-align: right;\">\n",
       "      <th></th>\n",
       "      <th>Customer ID</th>\n",
       "      <th>Name</th>\n",
       "      <th>Age</th>\n",
       "      <th>Gender</th>\n",
       "      <th>Address</th>\n",
       "    </tr>\n",
       "  </thead>\n",
       "  <tbody>\n",
       "    <tr>\n",
       "      <th>0</th>\n",
       "      <td>1</td>\n",
       "      <td>Patricia Beard</td>\n",
       "      <td>42</td>\n",
       "      <td>Female</td>\n",
       "      <td>434 Dorothy Plain, North Marvin, NY 77799</td>\n",
       "    </tr>\n",
       "    <tr>\n",
       "      <th>1</th>\n",
       "      <td>2</td>\n",
       "      <td>Sydney Smith</td>\n",
       "      <td>44</td>\n",
       "      <td>Male</td>\n",
       "      <td>26460 Harvey Mall, Donnatown, WY 51312</td>\n",
       "    </tr>\n",
       "    <tr>\n",
       "      <th>2</th>\n",
       "      <td>3</td>\n",
       "      <td>Michelle Pugh</td>\n",
       "      <td>69</td>\n",
       "      <td>Female</td>\n",
       "      <td>176 Douglas Streets, Parkerville, SD 18484</td>\n",
       "    </tr>\n",
       "    <tr>\n",
       "      <th>3</th>\n",
       "      <td>4</td>\n",
       "      <td>Allen Watts</td>\n",
       "      <td>74</td>\n",
       "      <td>Male</td>\n",
       "      <td>3508 Elizabeth Mission, West Nicolefort, MP 96685</td>\n",
       "    </tr>\n",
       "    <tr>\n",
       "      <th>4</th>\n",
       "      <td>5</td>\n",
       "      <td>Megan Johnson</td>\n",
       "      <td>41</td>\n",
       "      <td>Female</td>\n",
       "      <td>07708 Christina Street, Matthewsview, IN 49601</td>\n",
       "    </tr>\n",
       "  </tbody>\n",
       "</table>\n",
       "</div>"
      ],
      "text/plain": [
       "   Customer ID            Name  Age  Gender  \\\n",
       "0            1  Patricia Beard   42  Female   \n",
       "1            2    Sydney Smith   44    Male   \n",
       "2            3   Michelle Pugh   69  Female   \n",
       "3            4     Allen Watts   74    Male   \n",
       "4            5   Megan Johnson   41  Female   \n",
       "\n",
       "                                             Address  \n",
       "0          434 Dorothy Plain, North Marvin, NY 77799  \n",
       "1             26460 Harvey Mall, Donnatown, WY 51312  \n",
       "2         176 Douglas Streets, Parkerville, SD 18484  \n",
       "3  3508 Elizabeth Mission, West Nicolefort, MP 96685  \n",
       "4     07708 Christina Street, Matthewsview, IN 49601  "
      ]
     },
     "execution_count": 9,
     "metadata": {},
     "output_type": "execute_result"
    }
   ],
   "source": [
    "#Making Table having Customer Details\n",
    "\n",
    "customers=[]\n",
    "for i in range(1,501):\n",
    "    name=fake.name()\n",
    "    age=random.randint(18,80)\n",
    "    gender=random.choice(['Male','Female'])\n",
    "    address=fake.address().replace('\\n',', ')\n",
    "    customers.append((i,name,age,gender,address))\n",
    "\n",
    "\n",
    "customer_df=pd.DataFrame(customers,columns=['Customer ID','Name','Age','Gender','Address'])\n",
    "customer_df.head()"
   ]
  },
  {
   "cell_type": "code",
   "execution_count": 10,
   "id": "8841a979",
   "metadata": {},
   "outputs": [
    {
     "data": {
      "text/html": [
       "<div>\n",
       "<style scoped>\n",
       "    .dataframe tbody tr th:only-of-type {\n",
       "        vertical-align: middle;\n",
       "    }\n",
       "\n",
       "    .dataframe tbody tr th {\n",
       "        vertical-align: top;\n",
       "    }\n",
       "\n",
       "    .dataframe thead th {\n",
       "        text-align: right;\n",
       "    }\n",
       "</style>\n",
       "<table border=\"1\" class=\"dataframe\">\n",
       "  <thead>\n",
       "    <tr style=\"text-align: right;\">\n",
       "      <th></th>\n",
       "      <th>CustomerID</th>\n",
       "      <th>TransactionDate</th>\n",
       "      <th>Amount</th>\n",
       "    </tr>\n",
       "  </thead>\n",
       "  <tbody>\n",
       "    <tr>\n",
       "      <th>0</th>\n",
       "      <td>1</td>\n",
       "      <td>2023-02-16</td>\n",
       "      <td>760.09</td>\n",
       "    </tr>\n",
       "    <tr>\n",
       "      <th>1</th>\n",
       "      <td>1</td>\n",
       "      <td>2023-03-12</td>\n",
       "      <td>246.38</td>\n",
       "    </tr>\n",
       "    <tr>\n",
       "      <th>2</th>\n",
       "      <td>1</td>\n",
       "      <td>2022-01-30</td>\n",
       "      <td>685.23</td>\n",
       "    </tr>\n",
       "    <tr>\n",
       "      <th>3</th>\n",
       "      <td>1</td>\n",
       "      <td>2021-12-22</td>\n",
       "      <td>927.29</td>\n",
       "    </tr>\n",
       "    <tr>\n",
       "      <th>4</th>\n",
       "      <td>1</td>\n",
       "      <td>2023-02-23</td>\n",
       "      <td>747.81</td>\n",
       "    </tr>\n",
       "  </tbody>\n",
       "</table>\n",
       "</div>"
      ],
      "text/plain": [
       "   CustomerID TransactionDate  Amount\n",
       "0           1      2023-02-16  760.09\n",
       "1           1      2023-03-12  246.38\n",
       "2           1      2022-01-30  685.23\n",
       "3           1      2021-12-22  927.29\n",
       "4           1      2023-02-23  747.81"
      ]
     },
     "execution_count": 10,
     "metadata": {},
     "output_type": "execute_result"
    }
   ],
   "source": [
    "#Making Table having Transaction Details\n",
    "\n",
    "transactions=[]\n",
    "\n",
    "\n",
    "for customer_id in range(1,501):\n",
    "    for _ in range(random.randint(5,50)):\n",
    "        transaction_date=fake.date_between(start_date='-2y',end_date='today')\n",
    "        amount = round(random.uniform(10,1000),2)\n",
    "        transactions.append((customer_id,transaction_date,amount))\n",
    "\n",
    "transaction_df = pd.DataFrame(transactions,columns=['CustomerID','TransactionDate','Amount'])\n",
    "\n",
    "transaction_df.head()"
   ]
  },
  {
   "cell_type": "markdown",
   "id": "5cab290c",
   "metadata": {},
   "source": [
    "## Converting DataFrame to CSV files"
   ]
  },
  {
   "cell_type": "code",
   "execution_count": 15,
   "id": "a9ecafbb",
   "metadata": {},
   "outputs": [
    {
     "name": "stdout",
     "output_type": "stream",
     "text": [
      "Synthetic banking data generated and saved to CSV files.\n"
     ]
    }
   ],
   "source": [
    "#Customer and Transaction are saved file names\n",
    "\n",
    "customer_df.to_csv('Customers.csv',index=False)     \n",
    "transaction_df.to_csv('Transaction.csv',index=False)\n",
    "print('Synthetic banking data generated and saved to CSV files.')\n"
   ]
  },
  {
   "cell_type": "markdown",
   "id": "29219e9d",
   "metadata": {},
   "source": [
    "## Importing those CSV files"
   ]
  },
  {
   "cell_type": "code",
   "execution_count": 12,
   "id": "60f326e2",
   "metadata": {},
   "outputs": [],
   "source": [
    "customers=pd.read_csv('Customers.csv')\n",
    "transactions=pd.read_csv('Transaction.csv')"
   ]
  },
  {
   "cell_type": "code",
   "execution_count": 13,
   "id": "cb07f80f",
   "metadata": {},
   "outputs": [
    {
     "data": {
      "text/html": [
       "<div>\n",
       "<style scoped>\n",
       "    .dataframe tbody tr th:only-of-type {\n",
       "        vertical-align: middle;\n",
       "    }\n",
       "\n",
       "    .dataframe tbody tr th {\n",
       "        vertical-align: top;\n",
       "    }\n",
       "\n",
       "    .dataframe thead th {\n",
       "        text-align: right;\n",
       "    }\n",
       "</style>\n",
       "<table border=\"1\" class=\"dataframe\">\n",
       "  <thead>\n",
       "    <tr style=\"text-align: right;\">\n",
       "      <th></th>\n",
       "      <th>Customer ID</th>\n",
       "      <th>Name</th>\n",
       "      <th>Age</th>\n",
       "      <th>Gender</th>\n",
       "      <th>Address</th>\n",
       "    </tr>\n",
       "  </thead>\n",
       "  <tbody>\n",
       "    <tr>\n",
       "      <th>0</th>\n",
       "      <td>1</td>\n",
       "      <td>Patricia Beard</td>\n",
       "      <td>42</td>\n",
       "      <td>Female</td>\n",
       "      <td>434 Dorothy Plain, North Marvin, NY 77799</td>\n",
       "    </tr>\n",
       "    <tr>\n",
       "      <th>1</th>\n",
       "      <td>2</td>\n",
       "      <td>Sydney Smith</td>\n",
       "      <td>44</td>\n",
       "      <td>Male</td>\n",
       "      <td>26460 Harvey Mall, Donnatown, WY 51312</td>\n",
       "    </tr>\n",
       "    <tr>\n",
       "      <th>2</th>\n",
       "      <td>3</td>\n",
       "      <td>Michelle Pugh</td>\n",
       "      <td>69</td>\n",
       "      <td>Female</td>\n",
       "      <td>176 Douglas Streets, Parkerville, SD 18484</td>\n",
       "    </tr>\n",
       "    <tr>\n",
       "      <th>3</th>\n",
       "      <td>4</td>\n",
       "      <td>Allen Watts</td>\n",
       "      <td>74</td>\n",
       "      <td>Male</td>\n",
       "      <td>3508 Elizabeth Mission, West Nicolefort, MP 96685</td>\n",
       "    </tr>\n",
       "    <tr>\n",
       "      <th>4</th>\n",
       "      <td>5</td>\n",
       "      <td>Megan Johnson</td>\n",
       "      <td>41</td>\n",
       "      <td>Female</td>\n",
       "      <td>07708 Christina Street, Matthewsview, IN 49601</td>\n",
       "    </tr>\n",
       "  </tbody>\n",
       "</table>\n",
       "</div>"
      ],
      "text/plain": [
       "   Customer ID            Name  Age  Gender  \\\n",
       "0            1  Patricia Beard   42  Female   \n",
       "1            2    Sydney Smith   44    Male   \n",
       "2            3   Michelle Pugh   69  Female   \n",
       "3            4     Allen Watts   74    Male   \n",
       "4            5   Megan Johnson   41  Female   \n",
       "\n",
       "                                             Address  \n",
       "0          434 Dorothy Plain, North Marvin, NY 77799  \n",
       "1             26460 Harvey Mall, Donnatown, WY 51312  \n",
       "2         176 Douglas Streets, Parkerville, SD 18484  \n",
       "3  3508 Elizabeth Mission, West Nicolefort, MP 96685  \n",
       "4     07708 Christina Street, Matthewsview, IN 49601  "
      ]
     },
     "execution_count": 13,
     "metadata": {},
     "output_type": "execute_result"
    }
   ],
   "source": [
    "customers.head()"
   ]
  },
  {
   "cell_type": "code",
   "execution_count": 14,
   "id": "38e3ce59",
   "metadata": {},
   "outputs": [
    {
     "data": {
      "text/html": [
       "<div>\n",
       "<style scoped>\n",
       "    .dataframe tbody tr th:only-of-type {\n",
       "        vertical-align: middle;\n",
       "    }\n",
       "\n",
       "    .dataframe tbody tr th {\n",
       "        vertical-align: top;\n",
       "    }\n",
       "\n",
       "    .dataframe thead th {\n",
       "        text-align: right;\n",
       "    }\n",
       "</style>\n",
       "<table border=\"1\" class=\"dataframe\">\n",
       "  <thead>\n",
       "    <tr style=\"text-align: right;\">\n",
       "      <th></th>\n",
       "      <th>CustomerID</th>\n",
       "      <th>TransactionDate</th>\n",
       "      <th>Amount</th>\n",
       "    </tr>\n",
       "  </thead>\n",
       "  <tbody>\n",
       "    <tr>\n",
       "      <th>0</th>\n",
       "      <td>1</td>\n",
       "      <td>2023-02-16</td>\n",
       "      <td>760.09</td>\n",
       "    </tr>\n",
       "    <tr>\n",
       "      <th>1</th>\n",
       "      <td>1</td>\n",
       "      <td>2023-03-12</td>\n",
       "      <td>246.38</td>\n",
       "    </tr>\n",
       "    <tr>\n",
       "      <th>2</th>\n",
       "      <td>1</td>\n",
       "      <td>2022-01-30</td>\n",
       "      <td>685.23</td>\n",
       "    </tr>\n",
       "    <tr>\n",
       "      <th>3</th>\n",
       "      <td>1</td>\n",
       "      <td>2021-12-22</td>\n",
       "      <td>927.29</td>\n",
       "    </tr>\n",
       "    <tr>\n",
       "      <th>4</th>\n",
       "      <td>1</td>\n",
       "      <td>2023-02-23</td>\n",
       "      <td>747.81</td>\n",
       "    </tr>\n",
       "  </tbody>\n",
       "</table>\n",
       "</div>"
      ],
      "text/plain": [
       "   CustomerID TransactionDate  Amount\n",
       "0           1      2023-02-16  760.09\n",
       "1           1      2023-03-12  246.38\n",
       "2           1      2022-01-30  685.23\n",
       "3           1      2021-12-22  927.29\n",
       "4           1      2023-02-23  747.81"
      ]
     },
     "execution_count": 14,
     "metadata": {},
     "output_type": "execute_result"
    }
   ],
   "source": [
    "transactions.head()"
   ]
  },
  {
   "cell_type": "code",
   "execution_count": null,
   "id": "70774f16",
   "metadata": {},
   "outputs": [],
   "source": []
  },
  {
   "cell_type": "code",
   "execution_count": null,
   "id": "f8e98307",
   "metadata": {},
   "outputs": [],
   "source": []
  }
 ],
 "metadata": {
  "kernelspec": {
   "display_name": "Python 3 (ipykernel)",
   "language": "python",
   "name": "python3"
  },
  "language_info": {
   "codemirror_mode": {
    "name": "ipython",
    "version": 3
   },
   "file_extension": ".py",
   "mimetype": "text/x-python",
   "name": "python",
   "nbconvert_exporter": "python",
   "pygments_lexer": "ipython3",
   "version": "3.9.12"
  }
 },
 "nbformat": 4,
 "nbformat_minor": 5
}
